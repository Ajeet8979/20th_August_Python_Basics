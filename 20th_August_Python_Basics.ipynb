{
 "cells": [
  {
   "cell_type": "code",
   "execution_count": 4,
   "id": "b236c7cb-1ef0-4641-aba5-847c71a1c4d7",
   "metadata": {},
   "outputs": [
    {
     "name": "stdin",
     "output_type": "stream",
     "text": [
      "Enter a string ajeet\n"
     ]
    },
    {
     "name": "stdout",
     "output_type": "stream",
     "text": [
      "teeja\n"
     ]
    }
   ],
   "source": [
    "#program to reverse a string by slicing \n",
    "string = input(\"Enter a string:\")\n",
    "print(string[::-1])"
   ]
  },
  {
   "cell_type": "code",
   "execution_count": 1,
   "id": "ec4515e1-181b-4131-8077-4250a81148e8",
   "metadata": {},
   "outputs": [
    {
     "name": "stdin",
     "output_type": "stream",
     "text": [
      "Enter a string swati\n"
     ]
    },
    {
     "name": "stdout",
     "output_type": "stream",
     "text": [
      "Not Palindrome\n"
     ]
    }
   ],
   "source": [
    "#Check if a string is a palindrome.\n",
    "a=input(\"Enter a string\")\n",
    "b=a[::-1]\n",
    "if (a==b):\n",
    "    print(\"Palindrome\")\n",
    "else:\n",
    "    print(\"Not Palindrome\")"
   ]
  },
  {
   "cell_type": "code",
   "execution_count": 5,
   "id": "b3e77d7b-ffdf-4f18-be4e-a53e495644f3",
   "metadata": {},
   "outputs": [
    {
     "name": "stdout",
     "output_type": "stream",
     "text": [
      "CHEMISTRY\n"
     ]
    }
   ],
   "source": [
    "#Convert a string to uppercase.\n",
    "s= \"chemistry\"\n",
    "print(s.upper())"
   ]
  },
  {
   "cell_type": "code",
   "execution_count": 6,
   "id": "11b05658-aa2a-466b-a066-151ed6a4f5b1",
   "metadata": {},
   "outputs": [
    {
     "name": "stdout",
     "output_type": "stream",
     "text": [
      "science\n"
     ]
    }
   ],
   "source": [
    "#Convert a string to lowercase.\n",
    "s= \"SCIENCE\"\n",
    "print(s.lower())"
   ]
  },
  {
   "cell_type": "code",
   "execution_count": 20,
   "id": "969c50a4-56f1-4eb7-9fdb-96badaecc1d4",
   "metadata": {},
   "outputs": [
    {
     "name": "stdout",
     "output_type": "stream",
     "text": [
      "7\n"
     ]
    }
   ],
   "source": [
    "# Count the number of vowels in a string.\n",
    "string= \" my name is ajeet singh \"\n",
    "count = sum(string.count(vowel) for vowel in vowels)\n",
    "print(count)"
   ]
  },
  {
   "cell_type": "code",
   "execution_count": 22,
   "id": "f6aacfad-e515-4fc3-bc92-1ad5e9aa1549",
   "metadata": {},
   "outputs": [
    {
     "name": "stdout",
     "output_type": "stream",
     "text": [
      "12\n"
     ]
    }
   ],
   "source": [
    "#Count the number of consonants in a string.\n",
    "string=\"I am going to be a python developer\"\n",
    "count= sum(string.count(vowel) for vowel in vowels)\n",
    "print(count)"
   ]
  },
  {
   "cell_type": "code",
   "execution_count": 51,
   "id": "49983fbf-7386-4d33-9682-26327a9a599c",
   "metadata": {},
   "outputs": [
    {
     "name": "stdout",
     "output_type": "stream",
     "text": [
      "ajeet\n"
     ]
    }
   ],
   "source": [
    "#  remove whitespaces\n",
    "string= \" a j e e t\"\n",
    "new_string = \"\".join(string.split())\n",
    "print(new_string)\n"
   ]
  },
  {
   "cell_type": "code",
   "execution_count": 61,
   "id": "ee5fb69b-4f45-482f-99fa-7be05403bb43",
   "metadata": {},
   "outputs": [
    {
     "name": "stdout",
     "output_type": "stream",
     "text": [
      "Length of the string: 5\n"
     ]
    }
   ],
   "source": [
    "#Find the length of a string without using the `len()` function.\n",
    "def string_length(input_string):\n",
    "    count = 0\n",
    "    for char in input_string:\n",
    "        count += 1\n",
    "    return count\n",
    "\n",
    "# Example usage:\n",
    "input_string = \"ajeet\"\n",
    "length = string_length(input_string)\n",
    "print(\"Length of the string:\", length)\n"
   ]
  },
  {
   "cell_type": "code",
   "execution_count": 66,
   "id": "a2014009-fb8f-4646-ba3f-16071f027990",
   "metadata": {},
   "outputs": [
    {
     "name": "stdout",
     "output_type": "stream",
     "text": [
      "my name is ajeet rana\n"
     ]
    }
   ],
   "source": [
    "# Replace a word in a string with another word.\n",
    "s2= \"my name is ajeet rajput\"\n",
    "print(s2.replace('rajput','rana'))"
   ]
  },
  {
   "cell_type": "code",
   "execution_count": 44,
   "id": "56eb146a-6fb5-48bb-908f-9a26f10707cd",
   "metadata": {},
   "outputs": [
    {
     "data": {
      "text/plain": [
       "2"
      ]
     },
     "execution_count": 44,
     "metadata": {},
     "output_type": "execute_result"
    }
   ],
   "source": [
    "#Count the occurrences of a word in a string.\n",
    "s1= \"pwskills\"\n",
    "s1.count(\"s\")"
   ]
  },
  {
   "cell_type": "code",
   "execution_count": 15,
   "id": "98ffa0c5-b81c-49ef-84bf-ffac8d1f3638",
   "metadata": {},
   "outputs": [
    {
     "name": "stdout",
     "output_type": "stream",
     "text": [
      "['my', 'name', 'is', 'ajeet', 'rajput']\n"
     ]
    }
   ],
   "source": [
    "#Split a string into a list of words.\n",
    "s=\"my name is ajeet rajput\"\n",
    "print(s.split())"
   ]
  },
  {
   "cell_type": "code",
   "execution_count": 2,
   "id": "2383799e-3f20-4eea-91ae-2fbd08cc6420",
   "metadata": {},
   "outputs": [
    {
     "name": "stdout",
     "output_type": "stream",
     "text": [
      "ajeet prshant saurabh math science\n"
     ]
    }
   ],
   "source": [
    "# Join a list of words into a string.\n",
    "list=[ 'ajeet','prshant','saurabh','math','science']\n",
    "print(\" \".join(list))"
   ]
  },
  {
   "cell_type": "code",
   "execution_count": 4,
   "id": "14ac23ae-015c-45d1-a149-2dc498c24ae9",
   "metadata": {},
   "outputs": [
    {
     "name": "stdout",
     "output_type": "stream",
     "text": [
      "This is a list of words\n"
     ]
    }
   ],
   "source": [
    "# Join a list of words into a string.\n",
    "words_list = ['This', 'is', 'a', 'list', 'of', 'words']\n",
    "separator = ' '  # This is the character that will separate the words in the final string\n",
    "\n",
    "# Use the join() method to concatenate the words in the list\n",
    "result_string = separator.join(words_list)\n",
    "\n",
    "print(result_string)"
   ]
  },
  {
   "cell_type": "code",
   "execution_count": 11,
   "id": "f66fadc0-68e5-45af-8aab-5454b5871713",
   "metadata": {},
   "outputs": [
    {
     "data": {
      "text/plain": [
       "'I_am_continously_making_effort_to_give_the_best_of_mine'"
      ]
     },
     "execution_count": 11,
     "metadata": {},
     "output_type": "execute_result"
    }
   ],
   "source": [
    "'''Convert a string where words are separated by spaces to one where words\n",
    "we will use the replace function & will replace spaces by underscore'''\n",
    "s=\"I am continously making effort to give the best of mine\"\n",
    "s.replace(' ','_')"
   ]
  },
  {
   "cell_type": "code",
   "execution_count": 33,
   "id": "d24c132d-9b3b-4d1e-b1f9-fc83684e7a97",
   "metadata": {},
   "outputs": [
    {
     "name": "stdout",
     "output_type": "stream",
     "text": [
      "The string starts with 'My'.\n"
     ]
    }
   ],
   "source": [
    "#Check if a string starts with a specific word or phrase.\n",
    "input_string = \"My name is Ajeet Thakur.\"\n",
    "\n",
    "# Define the specific word or phrase you want to check for\n",
    "word_or_phrase = \"My\"\n",
    "\n",
    "# Use the startswith() method to check if the string starts with the word or phrase\n",
    "starts_with_word = input_string.startswith(word_or_phrase)\n",
    "\n",
    "if starts_with_word:\n",
    "    print(f\"The string starts with '{word_or_phrase}'.\")\n",
    "else:\n",
    "    print(f\"The string does not start with '{word_or_phrase}'.\")\n",
    "        "
   ]
  },
  {
   "cell_type": "code",
   "execution_count": 34,
   "id": "8f8c2827-e770-41df-a0f9-36bb3c9e6165",
   "metadata": {},
   "outputs": [
    {
     "name": "stdout",
     "output_type": "stream",
     "text": [
      "The string does not ends with 'My'.\n"
     ]
    }
   ],
   "source": [
    "#Check if a string end with a specific word or phrase.\n",
    "input_string = \"My name is Ajeet Thakur.\"\n",
    "\n",
    "# Define the specific word or phrase you want to check for\n",
    "word_or_phrase = \"My\"\n",
    "\n",
    "# Use the startswith() method to check if the string starts with the word or phrase\n",
    "ends_with_word = input_string.endswith(word_or_phrase)\n",
    "\n",
    "if ends_with_word:\n",
    "    print(f\"The string ends with '{word_or_phrase}'.\")\n",
    "else:\n",
    "    print(f\"The string does not ends with '{word_or_phrase}'.\")"
   ]
  },
  {
   "cell_type": "code",
   "execution_count": 1,
   "id": "6d1295a5-d9dc-418e-ae15-42823504d49f",
   "metadata": {},
   "outputs": [
    {
     "data": {
      "text/plain": [
       "' There Are Many Operators That We Can Use In The Python'"
      ]
     },
     "execution_count": 1,
     "metadata": {},
     "output_type": "execute_result"
    }
   ],
   "source": [
    "# Convert a string to title case\n",
    "s=\" There are many operators that we can use in the python\"\n",
    "s.title()"
   ]
  },
  {
   "cell_type": "code",
   "execution_count": 4,
   "id": "80a36080-e4fd-441c-ab8b-9cc19df32d9b",
   "metadata": {},
   "outputs": [
    {
     "name": "stdout",
     "output_type": "stream",
     "text": [
      "Longest word is:  program\n"
     ]
    }
   ],
   "source": [
    "# Find the longest word in a string.\n",
    "sentence = (\"There are many ways to create program in python\")\n",
    "\n",
    "# Finding longest word\n",
    "longest = max(sentence.split(), key=len)\n",
    "\n",
    "# longest word\n",
    "print(\"Longest word is: \", longest)\n"
   ]
  },
  {
   "cell_type": "code",
   "execution_count": 14,
   "id": "09788a70-113a-409a-b2a1-efa0f8b75c31",
   "metadata": {},
   "outputs": [
    {
     "name": "stdout",
     "output_type": "stream",
     "text": [
      "shortest word is:  to\n"
     ]
    }
   ],
   "source": [
    "#Find the shortest word in a string.\n",
    "sentence = (\"There are many ways to create program \")\n",
    "\n",
    "# Finding shortest word\n",
    "shortest = min(sentence.split(), key=len)\n",
    "\n",
    "# shortest word\n",
    "print(\"shortest word is: \", shortest)\n"
   ]
  },
  {
   "cell_type": "code",
   "execution_count": 35,
   "id": "403f6a0d-98e4-490c-a001-0deca100051b",
   "metadata": {},
   "outputs": [
    {
     "name": "stdout",
     "output_type": "stream",
     "text": [
      "Reversed string: singh ajeet is name My\n"
     ]
    }
   ],
   "source": [
    "def reverse_words(string):\n",
    "    # Split the string into words using whitespace as a delimiter\n",
    "    words = string.split()\n",
    "    \n",
    "    # Reverse the order of words using slicing\n",
    "    reversed_words = words[::-1]\n",
    "    \n",
    "    # Join the reversed words back into a string with spaces between them\n",
    "    reversed_string = ' '.join(reversed_words)\n",
    "    \n",
    "    return reversed_string\n",
    "\n",
    "# Example \n",
    "string = \"My name is ajeet singh\"\n",
    "result = reverse_words(string)\n",
    "print(\"Reversed string:\", result)"
   ]
  },
  {
   "cell_type": "code",
   "execution_count": 52,
   "id": "7c487865-d4f2-41ee-a61d-08ce93755726",
   "metadata": {},
   "outputs": [
    {
     "data": {
      "text/plain": [
       "True"
      ]
     },
     "execution_count": 52,
     "metadata": {},
     "output_type": "execute_result"
    }
   ],
   "source": [
    "'''Check if a string is alphanumeric\n",
    "a, b , c are character and 1 , 2, 3 are number\n",
    "now we will use string function'''\n",
    "\n",
    "string=\"abc123\"\n",
    "string.isalnum()"
   ]
  },
  {
   "cell_type": "code",
   "execution_count": 6,
   "id": "72e80555-16f9-4847-b234-d056044b5acb",
   "metadata": {},
   "outputs": [
    {
     "name": "stdout",
     "output_type": "stream",
     "text": [
      "Extracted digits: 12345\n"
     ]
    }
   ],
   "source": [
    "#Extract all digits from a string.\n",
    "def extract_digits(input_string):\n",
    "    # Initialize an empty string to store the extracted digits\n",
    "    digits = \"\"\n",
    "\n",
    "    # Iterate through the characters in the input string\n",
    "    for char in input_string:\n",
    "        # Check if the character is a digit\n",
    "        if char.isdigit():\n",
    "            digits += char  # Append the digit to the result string\n",
    "\n",
    "    return digits\n",
    "\n",
    "# Example usage:\n",
    "input_string = \"ajeet12345\"\n",
    "result = extract_digits(input_string)\n",
    "print(\"Extracted digits:\", result)"
   ]
  },
  {
   "cell_type": "code",
   "execution_count": 7,
   "id": "56cf9550-0ae9-47ff-96d4-27f90531196d",
   "metadata": {},
   "outputs": [
    {
     "name": "stdout",
     "output_type": "stream",
     "text": [
      "Extracted alphabets: ajeet\n"
     ]
    }
   ],
   "source": [
    "#Extract all alphabets from a string.\n",
    "def extract_alphabets(input_string):\n",
    "    # Initialize an empty string to store the extracted alphabetic characters\n",
    "    alphabets = \"\"\n",
    "\n",
    "    # Iterate through the characters in the input string\n",
    "    for char in input_string:\n",
    "        # Check if the character is an alphabet\n",
    "        if char.isalpha():\n",
    "            alphabets += char  # Append the alphabet to the result string\n",
    "\n",
    "    return alphabets\n",
    "\n",
    "# Example usage:\n",
    "input_string = \"ajeet12345\"\n",
    "result = extract_alphabets(input_string)\n",
    "print(\"Extracted alphabets:\", result)"
   ]
  },
  {
   "cell_type": "code",
   "execution_count": 9,
   "id": "cc006d1b-8ece-4974-904d-6882bd268cd2",
   "metadata": {},
   "outputs": [
    {
     "name": "stdout",
     "output_type": "stream",
     "text": [
      "Number of uppercase letters: 3\n"
     ]
    }
   ],
   "source": [
    "#Count the number of uppercase letters in a string.\n",
    "def count_uppercase_letters(input_string):\n",
    "    # Initialize a variable to keep track of the count\n",
    "    count = 0\n",
    "\n",
    "    # Iterate through the characters in the input string\n",
    "    for char in input_string:\n",
    "        # Check if the character is an uppercase letter\n",
    "        if char.isupper():\n",
    "            count += 1  # Increment the count\n",
    "\n",
    "    return count\n",
    "\n",
    "# Example usage:\n",
    "input_string = \"Ajeet Singh Rajput\"\n",
    "result = count_uppercase_letters(input_string)\n",
    "print(\"Number of uppercase letters:\", result)"
   ]
  },
  {
   "cell_type": "code",
   "execution_count": 12,
   "id": "9a7d49a9-f4f2-4ca8-92a4-c8cd97b7e3a2",
   "metadata": {},
   "outputs": [
    {
     "name": "stdout",
     "output_type": "stream",
     "text": [
      "Number of lowercase letters: 13\n"
     ]
    }
   ],
   "source": [
    "#Count the number of lowercase letters in a string.\n",
    "def count_lowercase_letters(input_string):\n",
    "    # Initialize a variable to keep track of the count\n",
    "    count = 0\n",
    "\n",
    "    # Iterate through the characters in the input string\n",
    "    for char in input_string:\n",
    "        # Check if the character is a lowercase letter\n",
    "        if char.islower():\n",
    "            count += 1  # Increment the count\n",
    "\n",
    "    return count\n",
    "\n",
    "# Example usage:\n",
    "input_string = \"Ajeet Singh Rajput\"\n",
    "result = count_lowercase_letters(input_string)\n",
    "print(\"Number of lowercase letters:\", result)"
   ]
  },
  {
   "cell_type": "code",
   "execution_count": 14,
   "id": "6fa8cd9e-3f6d-4c91-b4f0-98ed94377078",
   "metadata": {},
   "outputs": [
    {
     "name": "stdout",
     "output_type": "stream",
     "text": [
      "Swapped case: aJEET sINGH \n"
     ]
    }
   ],
   "source": [
    "#Swap the case of each character in a string.\n",
    "def swap_case(input_string):\n",
    "    # Use the swapcase() method to swap the case of each character\n",
    "    swapped_string = input_string.swapcase()\n",
    "    \n",
    "    return swapped_string\n",
    "\n",
    "# Example usage:\n",
    "input_string = \"Ajeet Singh \"\n",
    "result = swap_case(input_string)\n",
    "print(\"Swapped case:\", result)"
   ]
  },
  {
   "cell_type": "code",
   "execution_count": 16,
   "id": "7bdac132-03c4-4b4e-afda-0e958ca8c4b9",
   "metadata": {},
   "outputs": [
    {
     "name": "stdout",
     "output_type": "stream",
     "text": [
      "String with word removed: My mame is  singh.\n"
     ]
    }
   ],
   "source": [
    "#Remove a specific word from a string.\n",
    "def remove_word(input_string, word_to_remove):\n",
    "    # Use the replace() method to remove all occurrences of the word\n",
    "    cleaned_string = input_string.replace(word_to_remove, \"\")\n",
    "    \n",
    "    return cleaned_string\n",
    "\n",
    "# Example usage:\n",
    "input_string = \"My mame is ajeet singh.\"\n",
    "word_to_remove = \"ajeet\"\n",
    "result = remove_word(input_string, word_to_remove)\n",
    "print(\"String with word removed:\", result)"
   ]
  },
  {
   "cell_type": "code",
   "execution_count": 19,
   "id": "d89a27f7-6ada-4edc-9dc6-6f8d5336d9d4",
   "metadata": {},
   "outputs": [
    {
     "name": "stdout",
     "output_type": "stream",
     "text": [
      "'ajeet@email.com' is a valid email: True\n",
      "'rana_email' is a valid email: False\n",
      "'singh@example' is a valid email: False\n",
      "'aight@domain.com' is a valid email: True\n"
     ]
    }
   ],
   "source": [
    "#Check if a string is a valid email address.\n",
    "import re\n",
    "\n",
    "def is_valid_email(email):\n",
    "    # Define a regular expression pattern for a simple email address validation\n",
    "    pattern = r'^[\\w\\.-]+@[\\w\\.-]+\\.\\w+$'\n",
    "    \n",
    "    # Use the re.match() function to check if the email matches the pattern\n",
    "    if re.match(pattern, email):\n",
    "        return True\n",
    "    else:\n",
    "        return False\n",
    "\n",
    "# Example usage:\n",
    "email1 = \"ajeet@email.com\"\n",
    "email2 = \"rana_email\"\n",
    "email3 = \"singh@example\"\n",
    "email4 = \"aight@domain.com\"\n",
    "\n",
    "print(f\"'{email1}' is a valid email: {is_valid_email(email1)}\")\n",
    "print(f\"'{email2}' is a valid email: {is_valid_email(email2)}\")\n",
    "print(f\"'{email3}' is a valid email: {is_valid_email(email3)}\")\n",
    "print(f\"'{email4}' is a valid email: {is_valid_email(email4)}\")"
   ]
  },
  {
   "cell_type": "code",
   "execution_count": 20,
   "id": "423a85b6-1f95-4380-9530-06630678eef6",
   "metadata": {},
   "outputs": [
    {
     "name": "stdout",
     "output_type": "stream",
     "text": [
      "Username: ajeet\n"
     ]
    }
   ],
   "source": [
    "#Extract the username from an email address string.\n",
    "def extract_username(email):\n",
    "    # Split the email address at the \"@\" symbol\n",
    "    parts = email.split(\"@\")\n",
    "    \n",
    "    # Check if the email has the expected format (username@domain)\n",
    "    if len(parts) == 2:\n",
    "        return parts[0]  # The username is the first part before the \"@\" symbol\n",
    "    else:\n",
    "        return None  # Invalid email format\n",
    "\n",
    "# Example usage:\n",
    "email = \"ajeet@example.com\"\n",
    "username = extract_username(email)\n",
    "if username:\n",
    "    print(\"Username:\", username)\n",
    "else:\n",
    "    print(\"Invalid email format\")"
   ]
  },
  {
   "cell_type": "code",
   "execution_count": 21,
   "id": "e52b1578-5d6c-4727-a36f-a41ddc9bac01",
   "metadata": {},
   "outputs": [
    {
     "name": "stdout",
     "output_type": "stream",
     "text": [
      "Domain: example.com\n"
     ]
    }
   ],
   "source": [
    "#Extract the domain name from an email address string.\n",
    "def extract_domain(email):\n",
    "    # Define a regular expression pattern to extract the domain\n",
    "    pattern = r'@([\\w\\.-]+)'\n",
    "    \n",
    "    # Use re.search() to find the pattern in the email\n",
    "    match = re.search(pattern, email)\n",
    "    \n",
    "    if match:\n",
    "        return match.group(1)  # Extract the domain from the matched group\n",
    "    else:\n",
    "        return None  # Invalid email format\n",
    "\n",
    "# Example usage:\n",
    "email = \"user@example.com\"\n",
    "domain = extract_domain(email)\n",
    "if domain:\n",
    "    print(\"Domain:\", domain)\n",
    "else:\n",
    "    print(\"Invalid email format\")"
   ]
  },
  {
   "cell_type": "code",
   "execution_count": 23,
   "id": "71a9be8e-0b3a-46a3-9426-609ba6d5ae16",
   "metadata": {},
   "outputs": [
    {
     "name": "stdout",
     "output_type": "stream",
     "text": [
      "Cleaned string: You have no idea how i love you .\n"
     ]
    }
   ],
   "source": [
    "#Replace multiple spaces in a string with a single space.\n",
    "def replace_multiple_spaces(input_string):\n",
    "    # Split the input string by spaces\n",
    "    words = input_string.split()\n",
    "    \n",
    "    # Join the words back together with a single space in between\n",
    "    cleaned_string = ' '.join(words)\n",
    "    \n",
    "    return cleaned_string\n",
    "\n",
    "# Example usage:\n",
    "input_string = \"You   have    no  idea how i   love you  .\"\n",
    "result = replace_multiple_spaces(input_string)\n",
    "print(\"Cleaned string:\", result)"
   ]
  },
  {
   "cell_type": "code",
   "execution_count": 24,
   "id": "16e308c8-0558-4895-9c13-4f5c7d481660",
   "metadata": {},
   "outputs": [
    {
     "name": "stdout",
     "output_type": "stream",
     "text": [
      "'https://www.example.com' is a valid URL: True\n",
      "'invalid_url' is a valid URL: False\n",
      "'ftp://ftp.example.com' is a valid URL: True\n"
     ]
    }
   ],
   "source": [
    "#Check if a string is a valid URL.\n",
    "from urllib.parse import urlparse\n",
    "\n",
    "def is_valid_url(url):\n",
    "    try:\n",
    "        # Use urlparse to parse the URL\n",
    "        result = urlparse(url)\n",
    "        \n",
    "        # Check if the parsed result has a scheme (e.g., http, https) and a netloc (e.g., domain)\n",
    "        return all([result.scheme, result.netloc])\n",
    "    except ValueError:\n",
    "        return False\n",
    "\n",
    "# Example usage:\n",
    "url1 = \"https://www.example.com\"\n",
    "url2 = \"invalid_url\"\n",
    "url3 = \"ftp://ftp.example.com\"\n",
    "\n",
    "print(f\"'{url1}' is a valid URL: {is_valid_url(url1)}\")\n",
    "print(f\"'{url2}' is a valid URL: {is_valid_url(url2)}\")\n",
    "print(f\"'{url3}' is a valid URL: {is_valid_url(url3)}\")"
   ]
  },
  {
   "cell_type": "code",
   "execution_count": 25,
   "id": "e94527ae-13cc-4c03-954b-189d48375bb3",
   "metadata": {},
   "outputs": [
    {
     "name": "stdout",
     "output_type": "stream",
     "text": [
      "Protocol for 'https://www.example.com': https\n",
      "Protocol for 'ftp://ftp.example.com': ftp\n",
      "Protocol for 'www.example.com': None\n"
     ]
    }
   ],
   "source": [
    "#Extract the protocol (http or https) from a URL string.\n",
    "from urllib.parse import urlparse\n",
    "\n",
    "def extract_protocol(url):\n",
    "    # Use urlparse to parse the URL\n",
    "    parsed_url = urlparse(url)\n",
    "    \n",
    "    # Check if the parsed URL has a scheme (protocol)\n",
    "    if parsed_url.scheme:\n",
    "        return parsed_url.scheme\n",
    "    else:\n",
    "        return None  # No scheme found in the URL\n",
    "\n",
    "# Example usage:\n",
    "url1 = \"https://www.example.com\"\n",
    "url2 = \"ftp://ftp.example.com\"\n",
    "url3 = \"www.example.com\"\n",
    "\n",
    "protocol1 = extract_protocol(url1)\n",
    "protocol2 = extract_protocol(url2)\n",
    "protocol3 = extract_protocol(url3)\n",
    "\n",
    "print(f\"Protocol for '{url1}': {protocol1}\")\n",
    "print(f\"Protocol for '{url2}': {protocol2}\")\n",
    "print(f\"Protocol for '{url3}': {protocol3}\")"
   ]
  },
  {
   "cell_type": "code",
   "execution_count": 27,
   "id": "c58df008-74b0-43b4-89b9-8644c59588d2",
   "metadata": {},
   "outputs": [
    {
     "name": "stdout",
     "output_type": "stream",
     "text": [
      "'A': 1 times\n",
      "'j': 1 times\n",
      "'e': 2 times\n",
      "'t': 1 times\n",
      "' ': 1 times\n",
      "'S': 1 times\n",
      "'i': 1 times\n",
      "'n': 1 times\n",
      "'g': 1 times\n",
      "'h': 1 times\n",
      "'!': 1 times\n"
     ]
    }
   ],
   "source": [
    "# Find the frequency of each character in a string.\n",
    "def character_frequency(input_string):\n",
    "    # Initialize an empty dictionary to store character frequencies\n",
    "    frequency = {}\n",
    "\n",
    "    # Iterate through the characters in the input string\n",
    "    for char in input_string:\n",
    "        # Increment the count for the character in the dictionary\n",
    "        frequency[char] = frequency.get(char, 0) + 1\n",
    "\n",
    "    return frequency\n",
    "\n",
    "# Example usage:\n",
    "input_string = \"Ajeet Singh!\"\n",
    "result = character_frequency(input_string)\n",
    "\n",
    "# Display character frequencies\n",
    "for char, count in result.items():\n",
    "    print(f\"'{char}': {count} times\")"
   ]
  },
  {
   "cell_type": "code",
   "execution_count": 29,
   "id": "c9ac0947-3847-4e7a-be49-0efaa17bbfaa",
   "metadata": {},
   "outputs": [
    {
     "name": "stdout",
     "output_type": "stream",
     "text": [
      "String without punctuation: Wow It looks very good\n"
     ]
    }
   ],
   "source": [
    "#Remove all punctuation from a string.\n",
    "import string\n",
    "\n",
    "def remove_punctuation(input_string):\n",
    "    # Create a translation table to remove punctuation\n",
    "    translator = str.maketrans('', '', string.punctuation)\n",
    "    \n",
    "    # Use translate to remove punctuation from the input string\n",
    "    cleaned_string = input_string.translate(translator)\n",
    "    \n",
    "    return cleaned_string\n",
    "\n",
    "# Example usage:\n",
    "input_string = \"Wow! It looks very good.\"\n",
    "result = remove_punctuation(input_string)\n",
    "print(\"String without punctuation:\", result)"
   ]
  },
  {
   "cell_type": "code",
   "execution_count": 31,
   "id": "d5865400-0b25-4b54-b9b0-ab014073d4bb",
   "metadata": {},
   "outputs": [
    {
     "name": "stdout",
     "output_type": "stream",
     "text": [
      "'12345ajeet' contains only digits: False\n",
      "'123' contains only digits: True\n",
      "'   ' contains only digits: False\n"
     ]
    }
   ],
   "source": [
    "#Check if a string contains only digits.\n",
    "def contains_only_digits(input_string):\n",
    "    # Check if all characters in the input string are digits\n",
    "    return input_string.isdigit()\n",
    "\n",
    "# Example usage:\n",
    "string1 = \"12345ajeet\"\n",
    "string2 = \"123\"\n",
    "string3 = \"   \"  # Contains only spaces\n",
    "\n",
    "print(f\"'{string1}' contains only digits: {contains_only_digits(string1)}\")\n",
    "print(f\"'{string2}' contains only digits: {contains_only_digits(string2)}\")\n",
    "print(f\"'{string3}' contains only digits: {contains_only_digits(string3)}\")"
   ]
  },
  {
   "cell_type": "code",
   "execution_count": 35,
   "id": "7bf5b01a-0132-483e-8fa5-41ed64985c3b",
   "metadata": {},
   "outputs": [
    {
     "name": "stdout",
     "output_type": "stream",
     "text": [
      "'Hello564456' contains only alphabets: False\n",
      "'Hello123' contains only alphabets: False\n",
      "'   ' contains only alphabets: False\n",
      "'   ' contains only alphabets: False\n"
     ]
    }
   ],
   "source": [
    "#Check if a string contains only alphabets.\n",
    "import re\n",
    "\n",
    "def contains_only_alphabets(input_string):\n",
    "    # Use a regular expression to check if the string contains only alphabets\n",
    "    return bool(re.match(r'^[a-zA-Z]+$', input_string))\n",
    "\n",
    "# Example usage (same as above)\n",
    "string1 = \"Hello564456\"\n",
    "string2 = \"Hello123\"\n",
    "string3 = \"   \"\n",
    "\n",
    "print(f\"'{string1}' contains only alphabets: {contains_only_alphabets(string1)}\")\n",
    "print(f\"'{string2}' contains only alphabets: {contains_only_alphabets(string2)}\")\n",
    "print(f\"'{string3}' contains only alphabets: {contains_only_alphabets(string3)}\")\n",
    "print(f\"'{string3}' contains only alphabets: {contains_only_alphabets(string3)}\")"
   ]
  },
  {
   "cell_type": "code",
   "execution_count": 37,
   "id": "a244f5d6-4c7b-4172-a72a-d30133359198",
   "metadata": {},
   "outputs": [
    {
     "name": "stdout",
     "output_type": "stream",
     "text": [
      "List of characters: ['a', 'm', 'a', 'n', ' ', 'k', 'h', 'a', 'n', '!']\n"
     ]
    }
   ],
   "source": [
    "#Convert a string to a list of characters.\n",
    "def string_to_list(input_string):\n",
    "    # Use list comprehension to convert the string to a list of characters\n",
    "    char_list = [char for char in input_string]\n",
    "    \n",
    "    return char_list\n",
    "\n",
    "# Example usage:\n",
    "input_string = \"aman khan!\"\n",
    "result = string_to_list(input_string)\n",
    "print(\"List of characters:\", result)"
   ]
  },
  {
   "cell_type": "code",
   "execution_count": 38,
   "id": "901c91ac-d022-47aa-bc0a-3dac8543dc48",
   "metadata": {},
   "outputs": [
    {
     "name": "stdout",
     "output_type": "stream",
     "text": [
      "'listen' and 'silent' are anagrams.\n"
     ]
    }
   ],
   "source": [
    "#Check if two strings are anagrams.\n",
    "def are_anagrams(str1, str2):\n",
    "    # Remove spaces and convert both strings to lowercase for case-insensitive comparison\n",
    "    str1 = str1.replace(\" \", \"\").lower()\n",
    "    str2 = str2.replace(\" \", \"\").lower()\n",
    "    \n",
    "    # Check if the lengths of the two strings are equal\n",
    "    if len(str1) != len(str2):\n",
    "        return False\n",
    "\n",
    "    # Create dictionaries to store character frequencies for both strings\n",
    "    char_count1 = {}\n",
    "    char_count2 = {}\n",
    "\n",
    "    # Count character frequencies in the first string\n",
    "    for char in str1:\n",
    "        char_count1[char] = char_count1.get(char, 0) + 1\n",
    "\n",
    "    # Count character frequencies in the second string\n",
    "    for char in str2:\n",
    "        char_count2[char] = char_count2.get(char, 0) + 1\n",
    "\n",
    "    # Compare the two dictionaries to check for anagrams\n",
    "    return char_count1 == char_count2\n",
    "\n",
    "# Example usage:\n",
    "string1 = \"listen\"\n",
    "string2 = \"silent\"\n",
    "\n",
    "result = are_anagrams(string1, string2)\n",
    "if result:\n",
    "    print(f\"'{string1}' and '{string2}' are anagrams.\")\n",
    "else:\n",
    "    print(f\"'{string1}' and '{string2}' are not anagrams.\")"
   ]
  },
  {
   "cell_type": "code",
   "execution_count": 41,
   "id": "550661f1-3475-4415-b6b3-9008bd992be7",
   "metadata": {},
   "outputs": [
    {
     "name": "stdout",
     "output_type": "stream",
     "text": [
      "Encoded string: Khoor, Zruog!\n"
     ]
    }
   ],
   "source": [
    "#Encode a string using a Caesar cipher.\n",
    "\n",
    "def caesar_cipher_encode(input_string, shift):\n",
    "    encoded_string = \"\"\n",
    "    \n",
    "    for char in input_string:\n",
    "        if char.isalpha():\n",
    "            # Determine if the character is uppercase or lowercase\n",
    "            if char.isupper():\n",
    "                base = ord('A')\n",
    "            else:\n",
    "                base = ord('a')\n",
    "            \n",
    "            # Apply the Caesar cipher shift\n",
    "            shifted_char = chr((ord(char) - base + shift) % 26 + base)\n",
    "            encoded_string += shifted_char\n",
    "        else:\n",
    "            # If the character is not alphabetic, keep it unchanged\n",
    "            encoded_string += char\n",
    "    \n",
    "    return encoded_string\n",
    "\n",
    "# Example usage:\n",
    "input_string = \"Hello, World!\"\n",
    "shift = 3\n",
    "encoded_result = caesar_cipher_encode(input_string, shift)\n",
    "print(\"Encoded string:\", encoded_result)"
   ]
  },
  {
   "cell_type": "code",
   "execution_count": 42,
   "id": "fc1290dd-860b-44d7-824b-abe15fcfb11d",
   "metadata": {},
   "outputs": [
    {
     "name": "stdout",
     "output_type": "stream",
     "text": [
      "Decoded string: Hello, World!\n"
     ]
    }
   ],
   "source": [
    "#Decode a Caesar cipher encoded string.\n",
    "def caesar_cipher_decode(encoded_string, shift):\n",
    "    decoded_string = \"\"\n",
    "    \n",
    "    for char in encoded_string:\n",
    "        if char.isalpha():\n",
    "            # Determine if the character is uppercase or lowercase\n",
    "            if char.isupper():\n",
    "                base = ord('A')\n",
    "            else:\n",
    "                base = ord('a')\n",
    "            \n",
    "            # Apply the Caesar cipher shift in reverse\n",
    "            shifted_char = chr((ord(char) - base - shift) % 26 + base)\n",
    "            decoded_string += shifted_char\n",
    "        else:\n",
    "            # If the character is not alphabetic, keep it unchanged\n",
    "            decoded_string += char\n",
    "    \n",
    "    return decoded_string\n",
    "\n",
    "# Example usage:\n",
    "encoded_string = \"Khoor, Zruog!\"\n",
    "shift = 3\n",
    "decoded_result = caesar_cipher_decode(encoded_string, shift)\n",
    "print(\"Decoded string:\", decoded_result)"
   ]
  },
  {
   "cell_type": "code",
   "execution_count": 43,
   "id": "81162885-fe48-406b-ad32-29e685c55b10",
   "metadata": {},
   "outputs": [
    {
     "name": "stdout",
     "output_type": "stream",
     "text": [
      "Most frequent word: sample\n"
     ]
    }
   ],
   "source": [
    "#Find the most frequent word in a string.\n",
    "from collections import Counter\n",
    "import re\n",
    "\n",
    "def most_frequent_word(input_string):\n",
    "    # Tokenize the input string into words using regular expressions\n",
    "    words = re.findall(r'\\w+', input_string.lower())\n",
    "    \n",
    "    # Count the frequency of each word using Counter\n",
    "    word_counts = Counter(words)\n",
    "    \n",
    "    # Find the word(s) with the highest frequency\n",
    "    most_common = word_counts.most_common(1)\n",
    "    \n",
    "    if most_common:\n",
    "        return most_common[0][0]  # Return the most frequent word\n",
    "    else:\n",
    "        return None  # No words found in the input\n",
    "\n",
    "# Example usage:\n",
    "input_string = \"This is a sample string. The word 'sample' appears most frequently.\"\n",
    "result = most_frequent_word(input_string)\n",
    "if result:\n",
    "    print(\"Most frequent word:\", result)\n",
    "else:\n",
    "    print(\"No words found in the input.\")"
   ]
  },
  {
   "cell_type": "code",
   "execution_count": 44,
   "id": "8a41949b-e344-460d-af0e-7293190e6bec",
   "metadata": {},
   "outputs": [
    {
     "name": "stdout",
     "output_type": "stream",
     "text": [
      "Unique words: ['a', 'this', 'string', 'sample', 'words', 'contains', 'some', 'is']\n"
     ]
    }
   ],
   "source": [
    "#Find all unique words in a string.\n",
    "import re\n",
    "\n",
    "def unique_words(input_string):\n",
    "    # Tokenize the input string into words using regular expressions\n",
    "    words = re.findall(r'\\w+', input_string.lower())\n",
    "    \n",
    "    # Create a set to store unique words\n",
    "    unique_word_set = set(words)\n",
    "    \n",
    "    # Convert the set of unique words to a list if needed\n",
    "    unique_word_list = list(unique_word_set)\n",
    "    \n",
    "    return unique_word_list\n",
    "\n",
    "# Example usage:\n",
    "input_string = \"This is a sample string. This string contains some sample words.\"\n",
    "result = unique_words(input_string)\n",
    "print(\"Unique words:\", result)"
   ]
  },
  {
   "cell_type": "code",
   "execution_count": 45,
   "id": "fa591279-7d11-451d-8d49-f7fe92ba1ad9",
   "metadata": {},
   "outputs": [
    {
     "name": "stdout",
     "output_type": "stream",
     "text": [
      "Number of syllables: 3\n"
     ]
    }
   ],
   "source": [
    "#Count the number of syllables in a string.\n",
    "import re\n",
    "\n",
    "def count_syllables(input_string):\n",
    "    # Define a regular expression pattern to match vowel sounds\n",
    "    vowel_pattern = re.compile(r'[aeiouyAEIOUY]+')\n",
    "    \n",
    "    # Find all vowel sound matches in the input string\n",
    "    vowel_matches = vowel_pattern.findall(input_string)\n",
    "    \n",
    "    # Count the number of matches, which estimates the number of syllables\n",
    "    syllable_count = len(vowel_matches)\n",
    "    \n",
    "    return syllable_count\n",
    "\n",
    "# Example usage:\n",
    "input_string = \"Hello, World!\"\n",
    "syllables = count_syllables(input_string)\n",
    "print(\"Number of syllables:\", syllables)"
   ]
  },
  {
   "cell_type": "code",
   "execution_count": 46,
   "id": "2efc3aaa-c1f3-4483-acde-c8517e4779f7",
   "metadata": {},
   "outputs": [
    {
     "name": "stdout",
     "output_type": "stream",
     "text": [
      "'Hello, World!' contains special characters: True\n",
      "'This_is_a_sample_string' contains special characters: True\n",
      "'12345' contains special characters: False\n",
      "'Special@Character' contains special characters: True\n"
     ]
    }
   ],
   "source": [
    "#Check if a string contains any special characters.\n",
    "import re\n",
    "\n",
    "def contains_special_characters(input_string):\n",
    "    # Define a regular expression pattern to match special characters\n",
    "    special_char_pattern = re.compile(r'[^a-zA-Z0-9\\s]')\n",
    "    \n",
    "    # Use re.search() to check if the pattern matches any part of the string\n",
    "    if special_char_pattern.search(input_string):\n",
    "        return True  # Special characters found\n",
    "    else:\n",
    "        return False  # No special characters found\n",
    "\n",
    "# Example usage:\n",
    "string1 = \"Hello, World!\"\n",
    "string2 = \"This_is_a_sample_string\"\n",
    "string3 = \"12345\"\n",
    "string4 = \"Special@Character\"\n",
    "\n",
    "print(f\"'{string1}' contains special characters: {contains_special_characters(string1)}\")\n",
    "print(f\"'{string2}' contains special characters: {contains_special_characters(string2)}\")\n",
    "print(f\"'{string3}' contains special characters: {contains_special_characters(string3)}\")\n",
    "print(f\"'{string4}' contains special characters: {contains_special_characters(string4)}\")"
   ]
  },
  {
   "cell_type": "code",
   "execution_count": 47,
   "id": "4f062bf3-cbcf-4c89-abae-cabeda7c948c",
   "metadata": {},
   "outputs": [
    {
     "name": "stdout",
     "output_type": "stream",
     "text": [
      "Resulting string: This is an sentence to demonstrate removing words.\n"
     ]
    }
   ],
   "source": [
    "#emove the nth word from a string.\n",
    "def remove_nth_word(input_string, n):\n",
    "    # Split the input string into words\n",
    "    words = input_string.split()\n",
    "\n",
    "    # Check if the specified index (n) is within the valid range\n",
    "    if 0 <= n < len(words):\n",
    "        # Remove the nth word by slicing the list\n",
    "        words.pop(n)\n",
    "\n",
    "        # Join the words back together into a string\n",
    "        result_string = ' '.join(words)\n",
    "        return result_string\n",
    "    else:\n",
    "        # If n is out of range, return the original string\n",
    "        return input_string\n",
    "\n",
    "# Example usage:\n",
    "input_string = \"This is an example sentence to demonstrate removing words.\"\n",
    "n = 3  # Indexing starts from 0, so this will remove the fourth word \"example\"\n",
    "\n",
    "result = remove_nth_word(input_string, n)\n",
    "print(\"Resulting string:\", result)"
   ]
  },
  {
   "cell_type": "code",
   "execution_count": 48,
   "id": "4a01ed2b-c04a-4c1c-93fb-dd6d8353d235",
   "metadata": {},
   "outputs": [
    {
     "name": "stdout",
     "output_type": "stream",
     "text": [
      "Resulting string: This is an new example sentence to demonstrate inserting words.\n"
     ]
    }
   ],
   "source": [
    "#Insert a word at the nth position in a string.\n",
    "def insert_word_at_nth_position(input_string, word_to_insert, n):\n",
    "    # Split the input string into words\n",
    "    words = input_string.split()\n",
    "\n",
    "    # Check if the specified index (n) is within the valid range\n",
    "    if 0 <= n <= len(words):\n",
    "        # Insert the new word at the nth position\n",
    "        words.insert(n, word_to_insert)\n",
    "\n",
    "        # Join the words back together into a string\n",
    "        result_string = ' '.join(words)\n",
    "        return result_string\n",
    "    else:\n",
    "        # If n is out of range, return the original string\n",
    "        return input_string\n",
    "\n",
    "# Example usage:\n",
    "input_string = \"This is an example sentence to demonstrate inserting words.\"\n",
    "word_to_insert = \"new\"\n",
    "n = 3  # Indexing starts from 0, so this will insert the word \"new\" at the fourth position\n",
    "\n",
    "result = insert_word_at_nth_position(input_string, word_to_insert, n)\n",
    "print(\"Resulting string:\", result)"
   ]
  },
  {
   "cell_type": "code",
   "execution_count": 49,
   "id": "5eb8ef65-b6df-4d8b-ac44-065e51295cfa",
   "metadata": {},
   "outputs": [
    {
     "name": "stdout",
     "output_type": "stream",
     "text": [
      "List of lists: [['1', 'John', 'Doe'], ['2', 'Jane', 'Smith'], ['3', 'Bob', 'Johnson']]\n"
     ]
    }
   ],
   "source": [
    "#Convert a CSV string to a list of lists.\n",
    "import csv\n",
    "from io import StringIO\n",
    "\n",
    "def csv_string_to_list(csv_string):\n",
    "    # Create a CSV reader for the input CSV string\n",
    "    csv_reader = csv.reader(StringIO(csv_string))\n",
    "    \n",
    "    # Convert the CSV reader to a list of lists\n",
    "    csv_list = [row for row in csv_reader]\n",
    "    \n",
    "    return csv_list\n",
    "\n",
    "# Example usage:\n",
    "csv_string = \"1,John,Doe\\n2,Jane,Smith\\n3,Bob,Johnson\"\n",
    "result = csv_string_to_list(csv_string)\n",
    "print(\"List of lists:\", result)"
   ]
  },
  {
   "cell_type": "code",
   "execution_count": 50,
   "id": "1e01f411-eb36-4cf8-b570-a86a0a979410",
   "metadata": {},
   "outputs": [],
   "source": [
    "# List Based Practice Problem :"
   ]
  },
  {
   "cell_type": "code",
   "execution_count": 7,
   "id": "57c7b0dc-648c-480c-9373-b721146f28fe",
   "metadata": {},
   "outputs": [
    {
     "name": "stdout",
     "output_type": "stream",
     "text": [
      "[1, 2, 3, 4, 5, 6, 7, 8, 9, 10]\n",
      "<class 'list'>\n"
     ]
    }
   ],
   "source": [
    "# ques1 Create a list with integers from 1 to 10.\n",
    "N = 10\n",
    "# Get a list of numbers from 1 to N (including N)\n",
    "numbers = list(range(1, N + 1))\n",
    "print(numbers)\n",
    "# Print the type of numbers object\n",
    "print(type(numbers))"
   ]
  },
  {
   "cell_type": "code",
   "execution_count": 8,
   "id": "a2e1e6d9-af31-4808-96dc-9253a851cac3",
   "metadata": {},
   "outputs": [
    {
     "name": "stdout",
     "output_type": "stream",
     "text": [
      "The length of a list is 5\n"
     ]
    }
   ],
   "source": [
    "# ques2 Find the length of a list without using the `len()` function.\n",
    "# take list\n",
    "l = [1, 2, 3, 4, 5]\n",
    "\n",
    "# find length of the list\n",
    "count = 0\n",
    "for i in l:\n",
    "   count = count + 1\n",
    "\n",
    "# print length of the list\n",
    "print(\"The length of a list is\", count)"
   ]
  },
  {
   "cell_type": "code",
   "execution_count": 9,
   "id": "39ffe73f-d49c-4576-957c-3849947b204b",
   "metadata": {},
   "outputs": [
    {
     "name": "stdout",
     "output_type": "stream",
     "text": [
      "[1, 2, 3, 4, 5, 6]\n"
     ]
    }
   ],
   "source": [
    "# ques3 Append an element to the end of a list.\n",
    "# Create a list\n",
    "my_list = [1, 2, 3, 4, 5]\n",
    "\n",
    "# Append an element to the end of the list\n",
    "my_list.append(6)\n",
    "\n",
    "# Print the updated list\n",
    "print(my_list)"
   ]
  },
  {
   "cell_type": "code",
   "execution_count": 10,
   "id": "71cd527e-c139-4e40-a872-8a2a86eb1cc0",
   "metadata": {},
   "outputs": [
    {
     "name": "stdout",
     "output_type": "stream",
     "text": [
      "[1, 2, 6, 3, 4, 5]\n"
     ]
    }
   ],
   "source": [
    "#ques4 Insert an element at a specific index in a list.\n",
    "# Create a list\n",
    "my_list = [1, 2, 3, 4, 5]\n",
    "\n",
    "# Insert an element (e.g., 6) at a specific index (e.g., index 2)\n",
    "my_list.insert(2, 6)\n",
    "\n",
    "# Print the updated list\n",
    "print(my_list)"
   ]
  },
  {
   "cell_type": "code",
   "execution_count": 11,
   "id": "a940ae9a-6276-4873-8c05-4181ad8fa958",
   "metadata": {},
   "outputs": [
    {
     "name": "stdout",
     "output_type": "stream",
     "text": [
      "[1, 2, 4, 5]\n"
     ]
    }
   ],
   "source": [
    "#ques5 Remove an element from a list by its value.\n",
    "# Create a list\n",
    "my_list = [1, 2, 3, 4, 5]\n",
    "\n",
    "# Remove an element (e.g., value 3) from the list\n",
    "my_list.remove(3)\n",
    "\n",
    "# Print the updated list\n",
    "print(my_list)"
   ]
  },
  {
   "cell_type": "code",
   "execution_count": null,
   "id": "49cb4511-0fae-4efe-80d6-154593f53f36",
   "metadata": {},
   "outputs": [],
   "source": [
    "# ques6 Remove an element from a list by its index."
   ]
  }
 ],
 "metadata": {
  "kernelspec": {
   "display_name": "Python 3 (ipykernel)",
   "language": "python",
   "name": "python3"
  },
  "language_info": {
   "codemirror_mode": {
    "name": "ipython",
    "version": 3
   },
   "file_extension": ".py",
   "mimetype": "text/x-python",
   "name": "python",
   "nbconvert_exporter": "python",
   "pygments_lexer": "ipython3",
   "version": "3.10.8"
  }
 },
 "nbformat": 4,
 "nbformat_minor": 5
}
